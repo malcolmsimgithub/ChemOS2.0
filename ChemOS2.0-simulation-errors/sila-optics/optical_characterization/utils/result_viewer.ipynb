{
 "cells": [
  {
   "cell_type": "code",
   "execution_count": 2,
   "metadata": {},
   "outputs": [],
   "source": [
    "from tkinter import filedialog\n",
    "import matplotlib.pyplot as plt\n",
    "import pickle as pkl\n",
    "import numpy as np\n",
    "import os, copy\n",
    "import pandas as pd\n",
    "from sklearn.linear_model import LinearRegression\n",
    "from sklearn.metrics import r2_score\n",
    "# from spec_to_color import spec_to_color"
   ]
  },
  {
   "cell_type": "code",
   "execution_count": 3,
   "metadata": {},
   "outputs": [
    {
     "name": "stdout",
     "output_type": "stream",
     "text": [
      "Using matplotlib backend: Qt5Agg\n"
     ]
    }
   ],
   "source": [
    "%matplotlib"
   ]
  },
  {
   "cell_type": "code",
   "execution_count": 17,
   "metadata": {
    "tags": []
   },
   "outputs": [
    {
     "name": "stdout",
     "output_type": "stream",
     "text": [
      "C:/Users/smily/Dropbox/PythonScript/HPLCMS_characterization/sample_measured/20210129/3_c2_evap_3_3.725min_v10.pkl\n"
     ]
    },
    {
     "data": {
      "text/plain": [
       "'C:/Users/smily/Dropbox/PythonScript/HPLCMS_characterization/sample_measured/20210129'"
      ]
     },
     "execution_count": 17,
     "metadata": {},
     "output_type": "execute_result"
    }
   ],
   "source": [
    "#load data\n",
    "\n",
    "def open_pkl(fname):\n",
    "    with open(fname, 'rb') as f:\n",
    "        data = pkl.load(f)\n",
    "    return data\n",
    "\n",
    "filelist = filedialog.askopenfilenames()\n",
    "\n",
    "data_list = []\n",
    "stats_list = []\n",
    "\n",
    "for data_file in filelist:\n",
    "    d = open_pkl(data_file)\n",
    "    d2 = copy.deepcopy(d)\n",
    "\n",
    "    if d2['PL'] != None:\n",
    "        del d2['PL']['energy'], d2['PL']['photons'], d2['PL']['freq_spectrum'], d2['PL']['gain_spectrum']\n",
    "    if d2['absorption'] != None:\n",
    "        del d2['absorption']['absorbance'], d2['absorption']['transmittance'], d2['absorption']['reference'], d2['absorption']['sample']\n",
    "    #del d2['TE']['raw_data'], d2['TE']['fitted_data']\n",
    "    data_list.append(d)\n",
    "    stats_list.append(d2)\n",
    "    print(data_file)\n",
    "\n",
    "folder = os.path.dirname(filelist[0])\n",
    "folder\n",
    "\n",
    "\n"
   ]
  },
  {
   "cell_type": "code",
   "execution_count": null,
   "metadata": {},
   "outputs": [],
   "source": [
    "#create pandas data flame\n",
    "\n",
    "df = pd.io.json.json_normalize(stats_list)"
   ]
  },
  {
   "cell_type": "code",
   "execution_count": 25,
   "metadata": {},
   "outputs": [
    {
     "name": "stdout",
     "output_type": "stream",
     "text": [
      "dict_keys(['uv', 'absorption', 'PL', 'TE', 'metadata', 'job'])\n",
      "dict_keys(['energy', 'photons', 'freq_spectrum', 'gain_spectrum', 'relative_QY', 'max', 'lambda_max', 'time_trace', 'int_time_trace', 'maintenance', 'degradation_rate', 'maintenance(at_1min)', 'exposure', 'max_gain_factor', 'max_gain_wavelength'])\n",
      "dict_keys(['reference', 'absorption', 'absorbance_time_trace', 'absorbance_maintenance', 'degradation_rate', 'absorbance_maintenance(at_1min)', 'wavelength'])\n",
      "dict_keys(['absorption', 'PL', 'TE', 'dilution', 'redissolution', 'data_processing', 'data_path'])\n",
      "dict_keys(['injection_name', 'target_name', 'retention_time', 'vial_number', 'average_absorbance_peak', 'average_absorbance_375', 'sample_volume', 'target_smiles', 'filename'])\n",
      "dict_keys(['raw_data', 'metadata', 'fitted_data', 'fitting_results'])\n"
     ]
    }
   ],
   "source": [
    "print(data_list[0].keys())\n",
    "print(data_list[0]['PL'].keys())\n",
    "print(data_list[0]['uv'].keys())\n",
    "#print(data_list[0]['TE'].keys())\n",
    "print(data_list[0]['metadata'].keys())\n",
    "print(data_list[0]['job'].keys())\n",
    "print(data_list[0]['TE'].keys())\n",
    "#print(data_list[0]['metadata']['sample'].keys())"
   ]
  },
  {
   "cell_type": "code",
   "execution_count": null,
   "metadata": {},
   "outputs": [],
   "source": [
    "df.head()"
   ]
  },
  {
   "cell_type": "code",
   "execution_count": null,
   "metadata": {
    "tags": []
   },
   "outputs": [],
   "source": [
    "#output csv\n",
    "\n",
    "fname = '%s/df.csv' %folder\n",
    "df.to_csv(fname)"
   ]
  },
  {
   "cell_type": "code",
   "execution_count": 18,
   "metadata": {
    "tags": []
   },
   "outputs": [
    {
     "name": "stdout",
     "output_type": "stream",
     "text": [
      "131 787\n",
      "300.1890812457546 800.0229004530321\n"
     ]
    }
   ],
   "source": [
    "#calculation range\n",
    "calc_range = [300, 800]\n",
    "\n",
    "l_index = np.where(data_list[0]['PL']['energy'][0] >= calc_range[0])[0][0]\n",
    "u_index = np.where(data_list[0]['PL']['energy'][0] >= calc_range[1])[0][0]\n",
    "print(l_index, u_index)\n",
    "print(data_list[0]['PL']['energy'][0][l_index], data_list[0]['PL']['energy'][0][u_index] )"
   ]
  },
  {
   "cell_type": "code",
   "execution_count": 6,
   "metadata": {
    "tags": []
   },
   "outputs": [
    {
     "ename": "NameError",
     "evalue": "name 'df' is not defined",
     "output_type": "error",
     "traceback": [
      "\u001b[1;31m---------------------------------------------------------------------------\u001b[0m",
      "\u001b[1;31mNameError\u001b[0m                                 Traceback (most recent call last)",
      "\u001b[1;32m<ipython-input-6-aec0ea27c61b>\u001b[0m in \u001b[0;36m<module>\u001b[1;34m\u001b[0m\n\u001b[0;32m      1\u001b[0m \u001b[1;31m#plot legend\u001b[0m\u001b[1;33m\u001b[0m\u001b[1;33m\u001b[0m\u001b[1;33m\u001b[0m\u001b[0m\n\u001b[1;32m----> 2\u001b[1;33m \u001b[0mconc_list\u001b[0m \u001b[1;33m=\u001b[0m \u001b[0mdf\u001b[0m\u001b[1;33m[\u001b[0m\u001b[1;34m'metadata.sample.concentration(uM)'\u001b[0m\u001b[1;33m]\u001b[0m\u001b[1;33m.\u001b[0m\u001b[0mvalues\u001b[0m\u001b[1;33m\u001b[0m\u001b[1;33m\u001b[0m\u001b[0m\n\u001b[0m\u001b[0;32m      3\u001b[0m \u001b[0ml\u001b[0m \u001b[1;33m=\u001b[0m \u001b[1;33m[\u001b[0m\u001b[1;33m]\u001b[0m\u001b[1;33m\u001b[0m\u001b[1;33m\u001b[0m\u001b[0m\n\u001b[0;32m      4\u001b[0m \u001b[0mconcentrations\u001b[0m \u001b[1;33m=\u001b[0m \u001b[1;33m[\u001b[0m\u001b[0mc\u001b[0m \u001b[1;32mfor\u001b[0m \u001b[0mc\u001b[0m \u001b[1;32min\u001b[0m \u001b[0mconc_list\u001b[0m \u001b[1;32mif\u001b[0m \u001b[0mc\u001b[0m \u001b[1;32mnot\u001b[0m \u001b[1;32min\u001b[0m \u001b[0ml\u001b[0m \u001b[1;32mand\u001b[0m \u001b[1;32mnot\u001b[0m \u001b[0ml\u001b[0m\u001b[1;33m.\u001b[0m\u001b[0mappend\u001b[0m\u001b[1;33m(\u001b[0m\u001b[0mc\u001b[0m\u001b[1;33m)\u001b[0m\u001b[1;33m]\u001b[0m\u001b[1;33m\u001b[0m\u001b[1;33m\u001b[0m\u001b[0m\n\u001b[0;32m      5\u001b[0m \u001b[1;33m\u001b[0m\u001b[0m\n",
      "\u001b[1;31mNameError\u001b[0m: name 'df' is not defined"
     ]
    }
   ],
   "source": [
    "#plot legend\n",
    "conc_list = df['metadata.sample.concentration(uM)'].values\n",
    "l = []\n",
    "concentrations = [c for c in conc_list if c not in l and not l.append(c)]  \n",
    "\n",
    "text = \"concentration(uM)\\n\"\n",
    "for c in concentrations:\n",
    "    text += '%s\\n' %c \n"
   ]
  },
  {
   "cell_type": "code",
   "execution_count": 13,
   "metadata": {},
   "outputs": [
    {
     "name": "stdout",
     "output_type": "stream",
     "text": [
      "8 : #08ff90\n",
      "12 : #00ffa7\n",
      "13 : #ff4200\n",
      "14 : #ff2515\n",
      "17 : #005bff\n",
      "18 : #0039ff\n",
      "20 : #00fff8\n",
      "21 : #a4ff0a\n",
      "22 : #00b9ff\n",
      "23 : #0cff60\n",
      "24 : #008fff\n",
      "25 : #00ff77\n",
      "26 : #ffbc00\n",
      "28 : #00ffaf\n",
      "30 : #00ff7c\n",
      "31 : #0cff61\n",
      "32 : #0094ff\n",
      "33 : #00ffe8\n",
      "35 : #06ffa5\n",
      "36 : #adff05\n",
      "37 : #00ffa8\n",
      "39 : #0062ff\n",
      "40 : #00aeff\n",
      "42 : #004aff\n",
      "46 : #00abff\n"
     ]
    }
   ],
   "source": [
    "SC = spec_to_color.Spec_to_Color()\n",
    "\n",
    "for data in data_list:\n",
    "    rgb = SC.spec_to_rgb(data['PL']['energy'])\n",
    "    #print(rgb)\n",
    "    print('%s : %s' %(data['job']['target_name'], SC.hex_to_str(rgb)))\n",
    "    "
   ]
  },
  {
   "cell_type": "code",
   "execution_count": 5,
   "metadata": {},
   "outputs": [],
   "source": [
    "label = [0,5,10,20,30,40]\n",
    "label = [1,2]\n",
    "\n",
    "text = \"bubbling time(min)\\n\"\n",
    "for l in label:\n",
    "    text += '%s\\n' %l\n"
   ]
  },
  {
   "cell_type": "code",
   "execution_count": 14,
   "metadata": {
    "tags": []
   },
   "outputs": [],
   "source": [
    "#plot PL emission\n",
    "fig = plt.figure()\n",
    "ax1 = fig.add_subplot(1,1,1, xlabel = 'wavelength / nm', ylabel = 'intensity /(energy/nm/s)', xlim = (300, 800))\n",
    "for d in data_list:\n",
    "    ax1.plot(d['PL']['energy'][0], d['PL']['energy'][1])\n",
    "ax1.text(0.9, 0.9, text, ha='right',  va='top', transform = ax1.transAxes)\n",
    "#plt.savefig('%s/PL_spectra.png' %folder)\n",
    "plt.show()\n",
    "\n"
   ]
  },
  {
   "cell_type": "code",
   "execution_count": 16,
   "metadata": {
    "tags": []
   },
   "outputs": [],
   "source": [
    "#plot absorption spectrum\n",
    "fig = plt.figure()\n",
    "ax1 = fig.add_subplot(1,1,1, xlabel = 'wavelength / nm', ylabel = 'absorbance', xlim = (300, 800), ylim = (-0.005, 0.1))\n",
    "for d in data_list:\n",
    "    ax1.plot(d['absorption']['absorbance'][0], d['absorption']['absorbance'][1], label = 'a')\n",
    "ax1.text(0.9, 0.9, text, ha='right',  va='top', transform = ax1.transAxes)\n",
    "#plt.savefig('%s/absorption_spectra.png' %folder)\n",
    "plt.legend()\n",
    "plt.show()"
   ]
  },
  {
   "cell_type": "code",
   "execution_count": 16,
   "metadata": {},
   "outputs": [],
   "source": [
    "#plot PL and absorption spectrum\n",
    "fig = plt.figure()\n",
    "plt.rcParams.update({'font.size': 15})\n",
    "ax1 = fig.add_subplot(1,1,1, xlabel = 'wavelength / nm', ylabel = 'Normalized abs. and PL intensity', xlim = (250, 700), ylim = [-0.1, 1.1])\n",
    "conc = []\n",
    "linewidth = 6\n",
    "for d in data_list:\n",
    "#     if d['metadata']['sample']['concentration(uM)'] not in conc:\n",
    "    # if d['metadata']['sample']['concentration(uM)'] not in conc and d['metadata']['sample']['concentration(uM)'] == 10:\n",
    "    ax1.plot(d['absorption']['absorbance'][0], d['absorption']['absorbance'][1]/np.max(d['absorption']['absorbance'][1][l_index:u_index+1]),\\\n",
    "            linewidth = linewidth)\n",
    "    ax1.plot(d['PL']['energy'][0], d['PL']['energy'][1]/np.max(d['PL']['energy'][1][l_index:u_index+1]), linewidth = linewidth)\n",
    "#         conc.append(d['metadata']['sample']['concentration(uM)'] )\n",
    "#ax1.text(0.9, 0.9, text, ha='right',  va='top', transform = ax1.transAxes)\n",
    "\n",
    "#plt.savefig('%s/abs_PL_20uM.png' %folder)\n",
    "plt.show()"
   ]
  },
  {
   "cell_type": "code",
   "execution_count": null,
   "metadata": {},
   "outputs": [],
   "source": [
    "#PL time trace\n",
    "fig = plt.figure()\n",
    "ax1 = fig.add_subplot(1,1,1, xlabel = 'time/s', ylabel = 'Normalized PL intensity')\n",
    "for i, d in enumerate(data_list):\n",
    "    ax1.plot(d['PL']['peak_time_trace'][0], d['PL']['peak_time_trace'][1]/d['PL']['peak_time_trace'][1][0],label = label[i])\n",
    "    # ax1.plot(d['PL']['peak_time_trace'][0], d['PL']['peak_time_trace'][1]/d['PL']['peak_time_trace'][1][0],label = d['metadata']['sample']['concentration(uM)'])\n",
    "# ax1.text(0.9, 0.9, text, ha='right',  va='top', transform = ax1.transAxes)\n",
    "ax1.legend(loc = 'upper left', ncol = 1, bbox_to_anchor=(1, 1))\n",
    "#plt.savefig('%s/absorption_spectra.png' %folder)\n",
    "plt.show()"
   ]
  },
  {
   "cell_type": "code",
   "execution_count": null,
   "metadata": {},
   "outputs": [],
   "source": [
    "#uv absorbance time trace\n",
    "fig = plt.figure()\n",
    "ax1 = fig.add_subplot(1,1,1, xlabel = 'time/s', ylabel = 'Normalized absorbance')\n",
    "for i, d in enumerate(data_list):\n",
    "    ax1.plot(d['uv']['absorbance_time_trace'][0], d['uv']['absorbance_time_trace'][1]/d['uv']['absorbance_time_trace'][1][0], label = label[i])\n",
    "    # ax1.plot(d['uv']['absorbance_time_trace'][0], d['uv']['absorbance_time_trace'][1]/d['uv']['absorbance_time_trace'][1][0], label = d['metadata']['sample']['concentration(uM)'])\n",
    "#ax1.text(0.9, 0.9, text, ha='right',  va='top', transform = ax1.transAxes)\n",
    "#plt.savefig('%s/absorption_spectra.png' %folder)\n",
    "ax1.legend(loc = 'upper left', ncol = 1, bbox_to_anchor=(1, 1))\n",
    "plt.show()"
   ]
  },
  {
   "cell_type": "code",
   "execution_count": null,
   "metadata": {},
   "outputs": [],
   "source": [
    "#uv absorption time trace\n",
    "fig = plt.figure()\n",
    "ax1 = fig.add_subplot(1,1,1, xlabel = 'time/s', ylabel = 'Normalized absorbed energy')\n",
    "for d in data_list:\n",
    "    a  = 1 - 10**(-d['uv']['absorbance_time_trace'][1])\n",
    "    ax1.plot(d['uv']['absorbance_time_trace'][0], a/a[0])\n",
    "ax1.text(0.9, 0.9, text, ha='right',  va='top', transform = ax1.transAxes)\n",
    "#plt.savefig('%s/absorption_spectra.png' %folder)\n",
    "plt.show()"
   ]
  },
  {
   "cell_type": "code",
   "execution_count": 27,
   "metadata": {},
   "outputs": [],
   "source": [
    "#plot PL transient\n",
    "fig = plt.figure()\n",
    "plt.rcParams.update({'font.size': 15})\n",
    "linewidth = 6\n",
    "ax1 = fig.add_subplot(1,1,1, xlabel = 'time/ns', ylabel = 'photon count', xlim = (10, 30), ylim = (1, 100000))\n",
    "for d in data_list:\n",
    "    ax1.plot(d['TE']['raw_data'][0], d['TE']['raw_data'][1], linewidth = linewidth) \n",
    "    ax1.plot(d['TE']['fitted_data'][0], d['TE']['fitted_data'][1], linewidth = linewidth)\n",
    "ax1.set_yscale('log')\n",
    "    #ax1.plot(d['TE']['fitted_data'][0], d['TE']['fitted_data'][1])\n",
    "#ax1.text(0.9, 0.9, text, ha='right',  va='top', transform = ax1.transAxes)\n",
    "plt.savefig('%s/PL_lifetime.png' %folder)\n",
    "plt.show()"
   ]
  },
  {
   "cell_type": "code",
   "execution_count": null,
   "metadata": {
    "tags": []
   },
   "outputs": [],
   "source": [
    "def conc_plot(df, data, yrange = None, ylabel = None, fitting = False, filename = None):\n",
    "    d_mean = []\n",
    "    d_std = []\n",
    "    for conc in concentrations:\n",
    "        d = df[df['metadata.sample.concentration(uM)'] == conc][data]\n",
    "        d_mean.append(d.mean())\n",
    "        d_std.append(d.std())\n",
    "    error = np.asarray(d_std) *3\n",
    "    plt.errorbar(concentrations, d_mean, yerr = error, capsize=5, fmt='o', markersize=0, ecolor='k')\n",
    "    plt.scatter(concentrations, d_mean)\n",
    "    plt.xlabel(\"concentration/uM\")\n",
    "    if yrange:\n",
    "        plt.ylim(yrange)\n",
    "    if ylabel:\n",
    "        plt.ylabel(ylabel)\n",
    "    if fitting == True:\n",
    "        x = [[c] for c in df['metadata.sample.concentration(uM)']]\n",
    "        reg=LinearRegression(fit_intercept = False).fit(x, df[data])\n",
    "        y_pred = [reg.intercept_ + reg.coef_[0] * conc for conc in df['metadata.sample.concentration(uM)'].values]\n",
    "        r2 = r2_score(df[data], y_pred)\n",
    "        plt.plot(df['metadata.sample.concentration(uM)'], y_pred, linestyle = 'dashed', color = 'k')\n",
    "        plt.text(0.2, max(df[data])*0.8, 'R2 = {:.4f}\\ny = {:.3e}x'.format(r2, reg.coef_[0]))\n",
    "    if filename:\n",
    "        plt.savefig(filename)\n",
    "\n",
    "    plt.show()  "
   ]
  },
  {
   "cell_type": "code",
   "execution_count": null,
   "metadata": {},
   "outputs": [],
   "source": [
    "fname = '%s/conc-abs.png' %folder\n",
    "conc_plot(df, data = 'PL.relative_QY', yrange = (-0.02, 0.7), ylabel = 'absorbance(lambda_max)', fitting = False, filename = fname)"
   ]
  },
  {
   "cell_type": "code",
   "execution_count": null,
   "metadata": {
    "tags": []
   },
   "outputs": [],
   "source": [
    "d_list = ['PL.max_gain_factor', 'PL.relative_QY', 'TE.fitting_results.tau']\n",
    "labels = ['max gain factor\\n(1E-24 cm2 s)', 'relative_PLQY*\\n(ref: DPA)', '1/PL lifetime (1E9 s-1)']\n",
    "d_mean = [[] for _ in range(len(concentrations))]\n",
    "d_std = [[] for _ in range(len(concentrations))]\n",
    "\n",
    "for i, conc in enumerate(concentrations):\n",
    "    for j, data in enumerate(d_list):\n",
    "        d = df[df['metadata.sample.concentration(uM)'] == conc][data]\n",
    "        if j == 0:\n",
    "            d = d * 1E24\n",
    "        elif j == 1:\n",
    "            d = d/0.53\n",
    "        elif j == 2:\n",
    "            d = 1/d\n",
    "        d_mean[i].append(d.mean())\n",
    "        d_std[i].append(d.std()*3)\n",
    "\n",
    "x = np.arange(len(d_list))\n",
    "bar_width = 0.8/len(concentrations)\n",
    "\n",
    "fig = plt.figure()\n",
    "ax = fig.add_subplot(1,1,1)\n",
    "for i, conc in enumerate(concentrations):\n",
    "    ax.bar(x + i * bar_width, d_mean[i], yerr = d_std[i], width = bar_width, label = '%s uM' %conc, ecolor=\"black\", capsize=3)\n",
    "ax.set_ylim(0, 1.2)\n",
    "ax.set_xticks(x + bar_width * round(len(concentrations)/2))\n",
    "ax.set_xticklabels(labels)\n",
    "ax.legend(loc = 'upper right', ncol = 1, bbox_to_anchor=(1, 1))\n",
    "ax.grid(which = \"major\", axis = \"y\", color = \"k\", alpha = 0.3,\n",
    "        linestyle = \"--\", linewidth = 1)\n",
    "plt.savefig('%s/objectives.png' %folder)\n",
    "plt.show()"
   ]
  },
  {
   "cell_type": "code",
   "execution_count": null,
   "metadata": {},
   "outputs": [],
   "source": []
  }
 ],
 "metadata": {
  "kernelspec": {
   "display_name": "Python 3",
   "language": "python",
   "name": "python3"
  },
  "language_info": {
   "codemirror_mode": {
    "name": "ipython",
    "version": 3
   },
   "file_extension": ".py",
   "mimetype": "text/x-python",
   "name": "python",
   "nbconvert_exporter": "python",
   "pygments_lexer": "ipython3",
   "version": "3.6.4"
  }
 },
 "nbformat": 4,
 "nbformat_minor": 2
}
